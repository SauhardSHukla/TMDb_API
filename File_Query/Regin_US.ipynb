{
 "cells": [
  {
   "cell_type": "markdown",
   "metadata": {},
   "source": [
    "## Problem statement\n",
    "Fetch the top rated english movies in the US region using the TMDb API. From the result, print the first 10 movies which have original language as english. Also print their genres.\n",
    "\n",
    "\n",
    "\n",
    "Note: Do not use the search/movies API for finding genres.\n",
    "\n",
    "\n",
    "\n",
    "## Output Format:\n",
    "\n",
    " Movie_Name - Genre \n",
    " Movie_Name - Genre \n",
    " Movie_Name - Genre \n",
    "....\n",
    "... "
   ]
  },
  {
   "cell_type": "code",
   "execution_count": 7,
   "metadata": {},
   "outputs": [
    {
     "name": "stdout",
     "output_type": "stream",
     "text": [
      "The Shawshank Redemption - Drama,Crime\n",
      "The Godfather - Drama,Crime\n",
      "The Godfather Part II - Drama,Crime\n",
      "Schindler's List - Drama,History,War\n",
      "12 Angry Men - Drama\n",
      "The Dark Knight - Drama,Action,Crime,Thriller\n",
      "The Green Mile - Fantasy,Drama,Crime\n",
      "Pulp Fiction - Thriller,Crime\n",
      "The Wild Robot - Animation,Science Fiction,Family\n",
      "The Lord of the Rings: The Return of the King - Adventure,Fantasy,Action\n"
     ]
    }
   ],
   "source": [
    "import requests\n",
    "\n",
    "# API Key and base URL for The Movie Database API\n",
    "api_key = open('TMDB_api.txt').read()\n",
    "api_link = \"https://api.themoviedb.org/3\"\n",
    "\n",
    "# Headers and parameters for API requests\n",
    "headers = {'Accept': 'application/json'}\n",
    "params = {'api_key': api_key, 'region': 'US'}\n",
    "\n",
    "# Fetching top-rated movies\n",
    "response = requests.get(api_link + \"/movie/top_rated\", headers=headers, params=params)\n",
    "data = response.json()\n",
    "\n",
    "# Extracting movie results\n",
    "results = data.get('results')\n",
    "\n",
    "# Arrays to store titles and genre IDs\n",
    "title_array = []\n",
    "genre_id_array = []\n",
    "\n",
    "# Collecting titles and genre IDs for English-language movies\n",
    "for result in results:\n",
    "    if result.get('original_language') == 'en':\n",
    "        title_array.append(result.get('title'))\n",
    "        genre_id_array.append(result.get('genre_ids'))\n",
    "\n",
    "# Fetching genre names corresponding to genre IDs\n",
    "response2 = requests.get(api_link + \"/genre/movie/list\", headers=headers, params={'api_key': api_key})\n",
    "data2 = response2.json()\n",
    "genres = data2.get('genres')\n",
    "# print(genres)\n",
    "\n",
    "# Mapping genre IDs to genre names\n",
    "mapping = {}\n",
    "for genre in genres:\n",
    "    mapping[genre.get('id')] = genre.get('name')\n",
    "# print(mapping)\n",
    "\n",
    "# Printing the first 10 English-language movies with their genres\n",
    "for i in range(10):\n",
    "    print(title_array[i], \"-\", end=\" \")\n",
    "    # Join genres with a comma and space, excluding the trailing comma\n",
    "    genre_list = [mapping.get(id) for id in genre_id_array[i]]\n",
    "    print(\",\".join(genre_list))\n"
   ]
  }
 ],
 "metadata": {
  "kernelspec": {
   "display_name": "Python 3",
   "language": "python",
   "name": "python3"
  },
  "language_info": {
   "codemirror_mode": {
    "name": "ipython",
    "version": 3
   },
   "file_extension": ".py",
   "mimetype": "text/x-python",
   "name": "python",
   "nbconvert_exporter": "python",
   "pygments_lexer": "ipython3",
   "version": "3.12.3"
  }
 },
 "nbformat": 4,
 "nbformat_minor": 2
}
