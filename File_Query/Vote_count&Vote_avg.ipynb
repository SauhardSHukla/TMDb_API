{
 "cells": [
  {
   "cell_type": "markdown",
   "metadata": {},
   "source": [
    "## Problem statement\n",
    "Find the vote count and vote average of the movie \"3 Idiots\" using the TMDb API\n",
    "#### Output format: Vote Count , Vote Average"
   ]
  },
  {
   "cell_type": "code",
   "execution_count": 1,
   "metadata": {},
   "outputs": [
    {
     "name": "stdout",
     "output_type": "stream",
     "text": [
      "2363,7.999\n"
     ]
    }
   ],
   "source": [
    "import requests\n",
    "\n",
    "#import the api_key form the different file \n",
    "api_keys=open('TMDB_api.txt','r').read()\n",
    "# Base_url = \"https://api.themoviedb.org/3/search/movie\"\n",
    "\n",
    "params={\n",
    "    'query':'3 Idiots',\n",
    "    'api_key':f'{api_keys}'\n",
    "}\n",
    "\n",
    "get_url_info = requests.get(\"https://api.themoviedb.org/3/search/movie\",params=params)\n",
    "data = get_url_info.json()\n",
    "# print(data)\n",
    "values=data['results'][0]['vote_average']\n",
    "values_2 = data['results'][0]['vote_count']\n",
    "print(f'{values_2},{values}')\n",
    "# 'vote_average': 7.999, 'vote_count': 2363"
   ]
  }
 ],
 "metadata": {
  "kernelspec": {
   "display_name": "Python 3",
   "language": "python",
   "name": "python3"
  },
  "language_info": {
   "codemirror_mode": {
    "name": "ipython",
    "version": 3
   },
   "file_extension": ".py",
   "mimetype": "text/x-python",
   "name": "python",
   "nbconvert_exporter": "python",
   "pygments_lexer": "ipython3",
   "version": "3.12.3"
  }
 },
 "nbformat": 4,
 "nbformat_minor": 2
}
