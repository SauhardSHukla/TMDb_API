{
 "cells": [
  {
   "cell_type": "markdown",
   "metadata": {},
   "source": [
    "#### Problem statement\n",
    "Fetch the names of top 5 similar movies to 'Inception' from the TMDb API.\n",
    "\n",
    "Note:-\n",
    "While fetching the movie id, use the \"original_title\" field not the \"title\". Because the \"title\" field may contain duplicate values.\n",
    "\n",
    "Output Format:\n",
    "\n",
    "Print the name of the movies in a new line.\n",
    "movie_name_1\n",
    "movie_name_2\n",
    "and so on"
   ]
  },
  {
   "cell_type": "code",
   "execution_count": 2,
   "metadata": {},
   "outputs": [
    {
     "name": "stdout",
     "output_type": "stream",
     "text": [
      "Operation Dumbo Drop\n",
      "Zëiram\n",
      "The People That Time Forgot\n",
      "Queen of Blood\n",
      "Mark of the Astro-Zombies\n"
     ]
    }
   ],
   "source": [
    "import requests  # Import the requests library for making HTTP requests\n",
    "\n",
    "# Define your API key and the base URL for the TMDB API\n",
    "api_key = open('TMDB_api.txt','r').read()\n",
    "\n",
    "api_link = \"https://api.themoviedb.org/3\"\n",
    "\n",
    "# Set parameters for the initial search query for the movie \"Inception\"\n",
    "params = {\n",
    "    'query': \"Inception\",  # Movie title to search for\n",
    "    'api_key': api_key     # Your API key for authentication\n",
    "}\n",
    "\n",
    "# Set the request headers\n",
    "header = {\n",
    "    'Accept': 'application/json'  # Specify that we want a JSON response\n",
    "}\n",
    "\n",
    "# Send a GET request to search for the movie\n",
    "response = requests.get(api_link + \"/search/movie\", headers=header, params=params)\n",
    "\n",
    "# Convert the response to JSON format\n",
    "data = response.json()\n",
    "\n",
    "# Extract the results from the JSON data\n",
    "results = data.get('results')\n",
    "\n",
    "# Iterate through the search results to find the specific movie \"Inception\"\n",
    "for result in results:\n",
    "    if result.get('original_title') == 'Inception':  # Check if the title matches\n",
    "        id = result.get('id')  # Get the movie ID for \"Inception\"\n",
    "        \n",
    "        # Set parameters for fetching similar movies using the movie ID\n",
    "        params2 = {\n",
    "            'api_key': api_key  # API key for authentication\n",
    "        }\n",
    "        \n",
    "        # Send a GET request to fetch similar movies\n",
    "        response2 = requests.get(api_link + \"/movie/\" + str(id) + \"/similar\", headers=header, params=params2)\n",
    "        \n",
    "        # Convert the response to JSON format\n",
    "        data2 = response2.json()\n",
    "        \n",
    "        # Extract the results of similar movies from the JSON data\n",
    "        results2 = data2.get('results')\n",
    "        \n",
    "        # Print the titles of the first 5 similar movies\n",
    "        for result in results2[:5]:\n",
    "            print(result.get(\"title\"))  # Print the title of each similar movie\n"
   ]
  }
 ],
 "metadata": {
  "kernelspec": {
   "display_name": "Python 3",
   "language": "python",
   "name": "python3"
  },
  "language_info": {
   "codemirror_mode": {
    "name": "ipython",
    "version": 3
   },
   "file_extension": ".py",
   "mimetype": "text/x-python",
   "name": "python",
   "nbconvert_exporter": "python",
   "pygments_lexer": "ipython3",
   "version": "3.12.3"
  }
 },
 "nbformat": 4,
 "nbformat_minor": 2
}
