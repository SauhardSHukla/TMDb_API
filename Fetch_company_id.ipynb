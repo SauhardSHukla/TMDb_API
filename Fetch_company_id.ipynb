{
 "cells": [
  {
   "cell_type": "markdown",
   "metadata": {},
   "source": [
    "Problem statement\n",
    "\n",
    "Fetch the company id company 'Marvel Studios' using TMDb. Print the id."
   ]
  },
  {
   "cell_type": "code",
   "execution_count": 14,
   "metadata": {},
   "outputs": [
    {
     "name": "stdout",
     "output_type": "stream",
     "text": [
      "420\n"
     ]
    }
   ],
   "source": [
    "import requests\n",
    "api_key =open('TMDB_api.txt','r').read()\n",
    "params = {\n",
    "    'query':'Marvel Studios',\n",
    "    'api_key':f'{api_key}'\n",
    "}\n",
    "response = requests.get('https://api.themoviedb.org/3/search/company', params=params)\n",
    "dta={}\n",
    "dta=response.json()['results']\n",
    "# print(dta)\n",
    "\n",
    "def marvel_id(name='Marvel Studios'):\n",
    "    if dta['name']== name:\n",
    "        return dta['id']\n",
    "for key in  dta:\n",
    "    # print(key)\n",
    "    if key['name']=='Marvel Studios':\n",
    "        print(key['id'])\n",
    "\n",
    "\n"
   ]
  }
 ],
 "metadata": {
  "kernelspec": {
   "display_name": "Python 3",
   "language": "python",
   "name": "python3"
  },
  "language_info": {
   "codemirror_mode": {
    "name": "ipython",
    "version": 3
   },
   "file_extension": ".py",
   "mimetype": "text/x-python",
   "name": "python",
   "nbconvert_exporter": "python",
   "pygments_lexer": "ipython3",
   "version": "3.12.3"
  }
 },
 "nbformat": 4,
 "nbformat_minor": 2
}
