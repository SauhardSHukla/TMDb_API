{
 "cells": [
  {
   "cell_type": "markdown",
   "metadata": {},
   "source": [
    "## Problem statement\n",
    "Find the vote count and vote average of the movie \"3 Idiots\" using the TMDb API\n",
    "#### Output format: Vote Count , Vote Average"
   ]
  },
  {
   "cell_type": "code",
   "execution_count": null,
   "metadata": {},
   "outputs": [
    {
     "name": "stdout",
     "output_type": "stream",
     "text": [
      "{'page': 1, 'results': [{'adult': False, 'backdrop_path': '/u7kuUaySqXBVAtqEl9vkTkAzHV9.jpg', 'genre_ids': [18, 35], 'id': 20453, 'original_language': 'hi', 'original_title': '3 Idiots', 'overview': 'Rascal. Joker. Dreamer. Genius... You\\'ve never met a college student quite like \"Rancho.\" From the moment he arrives at India\\'s most prestigious university, Rancho\\'s outlandish schemes turn the campus upside down—along with the lives of his two newfound best friends. Together, they make life miserable for \"Virus,\" the school’s uptight and heartless dean. But when Rancho catches the eye of the dean\\'s daughter, Virus sets his sights on flunking out the \"3 idiots\" once and for all.', 'popularity': 30.671, 'poster_path': '/66A9MqXOyVFCssoloscw79z8Tew.jpg', 'release_date': '2009-12-23', 'title': '3 Idiots', 'video': False, 'vote_average': 7.999, 'vote_count': 2363}, {'adult': False, 'backdrop_path': '/gje34RcIjGtcVyRxmo0rOh1oa3f.jpg', 'genre_ids': [35], 'id': 1148368, 'original_language': 'it', 'original_title': 'I soliti idioti 3 - Il ritorno', 'overview': 'I Soliti Idioti return to the cinema ten years after the second film and many things have changed in the world. We will see the most beloved characters compete with the contemporary, with the same cynical and amused eye that distinguished the previous episodes. This new adventure focuses on a current and universal theme: the family.', 'popularity': 8.032, 'poster_path': '/g4CNrkOL6r374IxG3XpVgOlGe2E.jpg', 'release_date': '2024-01-25', 'title': 'The Usual Idiots 3: The Comeback', 'video': False, 'vote_average': 4.7, 'vote_count': 52}, {'adult': False, 'backdrop_path': '/lLjuF7fDzOYUjC2N00pMjQ483cl.jpg', 'genre_ids': [35], 'id': 1093036, 'original_language': 'th', 'original_title': 'ฮีโร่ต้มแซ่บ', 'overview': 'During the seed harvest season in Ban Rabue Village, Ngern is responsible for collecting and storing seeds for the upcoming year. Unfortunately, a group of black-faced thieves attempt to steal the seeds, and Ngern unintentionally kills them. Wanting to avoid any trouble, Ngern, along with his two friends, sets out to find guns and bring them back to protect the village.', 'popularity': 1.963, 'poster_path': '/1OUTnGF1jS4LpWNIqGFfWVeKZfK.jpg', 'release_date': '2023-11-30', 'title': '3 Idiot Heroes', 'video': False, 'vote_average': 6.5, 'vote_count': 2}, {'adult': False, 'backdrop_path': '/s1oSnLVAZmWyZlySy2oas250k7U.jpg', 'genre_ids': [16, 28, 35, 12], 'id': 1175828, 'original_language': 'en', 'original_title': '3 Idiots Become Pirates', 'overview': 'In order to restock on supplies in Cranbook, Sam, Ben, No Name, and Jax embark on a quest alongside Max and Rahk to Dobe Ocean while figuring out the mystery between the legendary Durag Brothers and the feared Captain Calles.', 'popularity': 0.944, 'poster_path': '/hEQVNh6I49BsMmJRoD2jNXEA62.jpg', 'release_date': '2023-09-09', 'title': '3 Idiots Become Pirates', 'video': False, 'vote_average': 0.0, 'vote_count': 0}, {'adult': False, 'backdrop_path': None, 'genre_ids': [], 'id': 1322761, 'original_language': 'nl', 'original_title': '3 Idiots and a Wise Man', 'overview': '', 'popularity': 0.01, 'poster_path': None, 'release_date': '2019-01-01', 'title': '3 Idiots and a Wise Man', 'video': False, 'vote_average': 0.0, 'vote_count': 0}], 'total_pages': 1, 'total_results': 5}\n",
      "2363,7.999\n"
     ]
    }
   ],
   "source": [
    "import requests\n",
    "\n",
    "#import the api_key form the different file \n",
    "api_keys=open('TMDB_api.txt','r').read()\n",
    "# Base_url = \"https://api.themoviedb.org/3/search/movie\"\n",
    "\n",
    "params={\n",
    "    'query':'3 Idiots',\n",
    "    'api_key':f'{api_keys}'\n",
    "}\n",
    "\n",
    "get_url_info = requests.get(\"https://api.themoviedb.org/3/search/movie\",params=params)\n",
    "data = get_url_info.json()\n",
    "# print(data)\n",
    "values=data['results'][0]['vote_average']\n",
    "values_2 = data['results'][0]['vote_count']\n",
    "print(f'{values_2},{values}')\n",
    "# 'vote_average': 7.999, 'vote_count': 2363"
   ]
  }
 ],
 "metadata": {
  "kernelspec": {
   "display_name": "Python 3",
   "language": "python",
   "name": "python3"
  },
  "language_info": {
   "codemirror_mode": {
    "name": "ipython",
    "version": 3
   },
   "file_extension": ".py",
   "mimetype": "text/x-python",
   "name": "python",
   "nbconvert_exporter": "python",
   "pygments_lexer": "ipython3",
   "version": "3.12.3"
  }
 },
 "nbformat": 4,
 "nbformat_minor": 2
}
