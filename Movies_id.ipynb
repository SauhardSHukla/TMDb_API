{
 "cells": [
  {
   "cell_type": "markdown",
   "metadata": {},
   "source": [
    "Problem statement\n",
    "Find the 'id' of the movie \"Andhadhun\" using TMDb API.\n",
    "\n",
    "Output Format:\n",
    "\n",
    "Print the id of the movie."
   ]
  },
  {
   "cell_type": "code",
   "execution_count": 29,
   "metadata": {},
   "outputs": [
    {
     "name": "stdout",
     "output_type": "stream",
     "text": [
      "{'page': 1, 'results': [{'adult': False, 'backdrop_path': '/73aKTjdQ46jpv3InqNVnV76Nl0K.jpg', 'genre_ids': [80, 9648, 53, 35], 'id': 534780, 'original_language': 'hi', 'original_title': 'अंधाधुन', 'overview': 'A series of mysterious events changes the life of a blind pianist who now must report a crime that was actually never witnessed by him.', 'popularity': 13.277, 'poster_path': '/dy3K6hNvwE05siGgiLJcEiwgpdO.jpg', 'release_date': '2018-10-05', 'title': 'Andhadhun', 'video': False, 'vote_average': 7.7, 'vote_count': 500}], 'total_pages': 1, 'total_results': 1}\n",
      "534780\n"
     ]
    }
   ],
   "source": [
    "import requests\n",
    "# Write your code here\n",
    "api_key =open('TMDB_api.txt','r').read()\n",
    "Base='https://api.themoviedb.org/3/movie'\n",
    "\n",
    "\n",
    "params = {\n",
    "    'query':'Andhadhun',\n",
    "    'api_key':f'{api_key}'\n",
    "}\n",
    "response = requests.get('https://api.themoviedb.org/3/search/movie', params=params)\n",
    "data  = response.json()\n",
    "print(data)\n",
    "movie_id=data['results'][0]['id']\n",
    "print(movie_id)"
   ]
  }
 ],
 "metadata": {
  "kernelspec": {
   "display_name": "Python 3",
   "language": "python",
   "name": "python3"
  },
  "language_info": {
   "codemirror_mode": {
    "name": "ipython",
    "version": 3
   },
   "file_extension": ".py",
   "mimetype": "text/x-python",
   "name": "python",
   "nbconvert_exporter": "python",
   "pygments_lexer": "ipython3",
   "version": "3.12.3"
  }
 },
 "nbformat": 4,
 "nbformat_minor": 2
}
