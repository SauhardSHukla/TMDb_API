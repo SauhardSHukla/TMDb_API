{
 "cells": [
  {
   "cell_type": "markdown",
   "metadata": {},
   "source": [
    "Problem statement\n",
    "Find the 'id' of the movie \"Andhadhun\" using TMDb API.\n",
    "\n",
    "Output Format:\n",
    "\n",
    "Print the id of the movie."
   ]
  },
  {
   "cell_type": "code",
   "execution_count": 1,
   "metadata": {},
   "outputs": [
    {
     "name": "stdout",
     "output_type": "stream",
     "text": [
      "534780\n"
     ]
    }
   ],
   "source": [
    "import requests\n",
    "# Write your code here\n",
    "api_key =open('TMDB_api.txt','r').read()\n",
    "Base='https://api.themoviedb.org/3/movie'\n",
    "\n",
    "\n",
    "params = {\n",
    "    'query':'Andhadhun',\n",
    "    'api_key':f'{api_key}'\n",
    "}\n",
    "response = requests.get('https://api.themoviedb.org/3/search/movie', params=params)\n",
    "data  = response.json()\n",
    "# print(data)\n",
    "movie_id=data['results'][0]['id']\n",
    "print(movie_id)"
   ]
  }
 ],
 "metadata": {
  "kernelspec": {
   "display_name": "Python 3",
   "language": "python",
   "name": "python3"
  },
  "language_info": {
   "codemirror_mode": {
    "name": "ipython",
    "version": 3
   },
   "file_extension": ".py",
   "mimetype": "text/x-python",
   "name": "python",
   "nbconvert_exporter": "python",
   "pygments_lexer": "ipython3",
   "version": "3.12.3"
  }
 },
 "nbformat": 4,
 "nbformat_minor": 2
}
