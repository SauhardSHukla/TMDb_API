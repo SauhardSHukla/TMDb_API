{
 "cells": [
  {
   "cell_type": "markdown",
   "metadata": {},
   "source": [
    "## Problem statement\n",
    "Find the name and birthplace of the present most popular person according to TMDb API.\n",
    "\n",
    "## Output Format:\n",
    "id\n",
    "name - birthplac"
   ]
  },
  {
   "cell_type": "code",
   "execution_count": 36,
   "metadata": {},
   "outputs": [
    {
     "name": "stdout",
     "output_type": "stream",
     "text": [
      "129700\n",
      "Nozomi Sasaki - Akita, Akita Prefecture, Japan\n"
     ]
    }
   ],
   "source": [
    "import requests\n",
    "\n",
    "Base_url='https://api.themoviedb.org/3'\n",
    "api = open('PEOPLE_api.txt','r').read()\n",
    "\n",
    "headers = {\n",
    "    \"accept\": \"application/json\"\n",
    "}\n",
    "params={\n",
    "    'api_key':f'{api}'\n",
    "}\n",
    "response = requests.get(Base_url+\"/person/popular\",headers=headers,params=params)\n",
    "get_data=response.json()['results']\n",
    "# print(get_data)\n",
    "\n",
    "get_pop = [person.get('popularity') for person in get_data if 'popularity' in person]\n",
    "get_max = max(get_pop)\n",
    "mapping={}\n",
    "for person in get_data:\n",
    "    if person['popularity']==get_max:\n",
    "        mapping[person['id']]= person['popularity']\n",
    "        break\n",
    "# print(mapping.keys())\n",
    "\n",
    "\n",
    "url='https://api.themoviedb.org/3/person/129700'\n",
    "headers_sec = {\"accept\": \"application/json\"}\n",
    "params_sec={'api_key':f'{api}'}\n",
    "response_people_data = requests.get(url, headers=headers_sec,params=params_sec)\n",
    "people_data=response_people_data.json()\n",
    "\n",
    "people_name=people_data.get('name')\n",
    "people_birthplace=people_data.get('place_of_birth')\n",
    "\n",
    "print('129700')\n",
    "print(f'{people_name} - {people_birthplace}')\n",
    "\n"
   ]
  },
  {
   "cell_type": "code",
   "execution_count": null,
   "metadata": {},
   "outputs": [],
   "source": []
  }
 ],
 "metadata": {
  "kernelspec": {
   "display_name": "Python 3",
   "language": "python",
   "name": "python3"
  },
  "language_info": {
   "codemirror_mode": {
    "name": "ipython",
    "version": 3
   },
   "file_extension": ".py",
   "mimetype": "text/x-python",
   "name": "python",
   "nbconvert_exporter": "python",
   "pygments_lexer": "ipython3",
   "version": "3.12.3"
  }
 },
 "nbformat": 4,
 "nbformat_minor": 2
}
