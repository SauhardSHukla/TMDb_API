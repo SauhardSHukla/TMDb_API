{
 "cells": [
  {
   "cell_type": "markdown",
   "metadata": {},
   "source": [
    "\n",
    "## Problem statement\n",
    "Did James McAvoy play a role in the movie Deadpool 2. Print Yes or No."
   ]
  },
  {
   "cell_type": "code",
   "execution_count": 50,
   "metadata": {},
   "outputs": [
    {
     "name": "stdout",
     "output_type": "stream",
     "text": [
      "yes\n"
     ]
    }
   ],
   "source": [
    "import requests\n",
    "\n",
    "api_key = open('PEOPLE_api.txt','r').read() \n",
    "api_link = \"https://api.themoviedb.org/3\"\n",
    "\n",
    "params = {'with_people':'5530' , 'api_key':api_key}\n",
    "header = {'Accept': 'application/json'} \n",
    "\n",
    "response = requests.get(api_link + '/discover/movie', headers = header, params = params) \n",
    "data = response.json()['results']\n",
    "# print(data)\n",
    "for i in data:\n",
    "    if i.get('original_title')=='Deadpool 2':\n",
    "        print('yes')\n",
    "        break\n",
    "\n",
    "    \n",
    "                \n"
   ]
  },
  {
   "cell_type": "code",
   "execution_count": 51,
   "metadata": {},
   "outputs": [],
   "source": [
    "# 5530"
   ]
  }
 ],
 "metadata": {
  "kernelspec": {
   "display_name": "Python 3",
   "language": "python",
   "name": "python3"
  },
  "language_info": {
   "codemirror_mode": {
    "name": "ipython",
    "version": 3
   },
   "file_extension": ".py",
   "mimetype": "text/x-python",
   "name": "python",
   "nbconvert_exporter": "python",
   "pygments_lexer": "ipython3",
   "version": "3.12.3"
  }
 },
 "nbformat": 4,
 "nbformat_minor": 2
}
