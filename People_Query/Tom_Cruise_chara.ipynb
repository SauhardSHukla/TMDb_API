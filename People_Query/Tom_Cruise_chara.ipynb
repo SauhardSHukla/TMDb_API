{
 "cells": [
  {
   "cell_type": "markdown",
   "metadata": {},
   "source": [
    "Problem statement\n",
    "Fetch the names of the character played by Tom Cruise in the movies:\n",
    "\n",
    "Top Gun\n",
    "Mission: Impossible - Fallout\n",
    "Minority Report\n",
    "Edge of Tomorrow\n",
    "Output Format:\n",
    "Print the names of the characters played by Tom Cruise line separated, in the respective order given in question."
   ]
  },
  {
   "cell_type": "markdown",
   "metadata": {},
   "source": []
  },
  {
   "cell_type": "code",
   "execution_count": 22,
   "metadata": {},
   "outputs": [
    {
     "name": "stdout",
     "output_type": "stream",
     "text": [
      "Chief John Anderton [Pre-Crime]\n",
      "Maverick\n",
      "Maj. William 'Bill' Cage\n",
      "Ethan Hunt\n"
     ]
    }
   ],
   "source": [
    "import requests\n",
    "api_key = open('PEOPLE_api.txt','r').read() \n",
    "api_link = \"https://api.themoviedb.org/3\"\n",
    "\n",
    "params = {'query':\"Tom Cruise\" , 'api_key':api_key}\n",
    "header = {'Accept': 'application/json'} \n",
    "\n",
    "response = requests.get(api_link + '/search/person', headers = header, params = params) \n",
    "data = response.json()['results']\n",
    "# print(data)\n",
    "get_id=[item.get('id') for item in data if 'id'in item if item.get('original_name')=='Tom Cruise']\n",
    "\n",
    "url = f\"https://api.themoviedb.org/3/person/{500}/movie_credits?language=en-US\"\n",
    "\n",
    "headers = {\"accept\": \"application/json\"}\n",
    "params={'api_key':api_key}\n",
    "data_file=['Top Gun'\n",
    ",'Mission: Impossible - Fallout','Minority Report',\n",
    "'Edge of Tomorrow']\n",
    "\n",
    "resp = requests.get(url, headers=headers,params=params)\n",
    "data_cast=resp.json()['cast']\n",
    "# print(data_cast)\n",
    "\n",
    "for i in data_cast:\n",
    "        for j in data_file:\n",
    "            # print(j)\n",
    "            if i.get('original_title') ==j :\n",
    "                 print(i.get('character'))\n",
    "\n",
    "\n"
   ]
  }
 ],
 "metadata": {
  "kernelspec": {
   "display_name": "Python 3",
   "language": "python",
   "name": "python3"
  },
  "language_info": {
   "codemirror_mode": {
    "name": "ipython",
    "version": 3
   },
   "file_extension": ".py",
   "mimetype": "text/x-python",
   "name": "python",
   "nbconvert_exporter": "python",
   "pygments_lexer": "ipython3",
   "version": "3.12.3"
  }
 },
 "nbformat": 4,
 "nbformat_minor": 2
}
