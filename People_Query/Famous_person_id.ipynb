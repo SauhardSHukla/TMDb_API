{
 "cells": [
  {
   "cell_type": "markdown",
   "metadata": {},
   "source": [
    "### Problem statement\n",
    "Fetch the Instagram and Twitter handle of Indian Actress \"Alia Bhatt\" from the TMDb API.\n",
    "\n",
    "### Output Format\n",
    "Print the Instagram and Twitter IDs space separated.\n",
    "instagram_id twitter_id"
   ]
  },
  {
   "cell_type": "code",
   "execution_count": 50,
   "metadata": {},
   "outputs": [
    {
     "name": "stdout",
     "output_type": "stream",
     "text": [
      "aliaabhatt Aliaa08\n"
     ]
    }
   ],
   "source": [
    "import requests\n",
    "api_key = open('PEOPLE_api.txt','r').read() \n",
    "api_link = \"https://api.themoviedb.org/3\"\n",
    "\n",
    "params = {'query':\"Alia Bhatt\" , 'api_key':api_key}\n",
    "header = {'Accept': 'application/json'} \n",
    "\n",
    "response = requests.get(api_link + '/search/person', headers = header, params = params) \n",
    "data = response.json()\n",
    "# print(data)\n",
    "\n",
    "id = data.get('results')[0].get('id')\n",
    "params2 = {'api_key':api_key}\n",
    "response2 = requests.get(api_link + \"/person/\"+ str(id) +\"/external_ids\" , headers = header, params = params2) \n",
    "data2 = response2.json()\n",
    "\n",
    "print(data2.get(\"instagram_id\"), data2.get(\"twitter_id\"))"
   ]
  }
 ],
 "metadata": {
  "kernelspec": {
   "display_name": "Python 3",
   "language": "python",
   "name": "python3"
  },
  "language_info": {
   "codemirror_mode": {
    "name": "ipython",
    "version": 3
   },
   "file_extension": ".py",
   "mimetype": "text/x-python",
   "name": "python",
   "nbconvert_exporter": "python",
   "pygments_lexer": "ipython3",
   "version": "3.12.3"
  }
 },
 "nbformat": 4,
 "nbformat_minor": 2
}
